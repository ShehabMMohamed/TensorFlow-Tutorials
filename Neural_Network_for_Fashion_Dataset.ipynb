{
  "nbformat": 4,
  "nbformat_minor": 0,
  "metadata": {
    "colab": {
      "name": "Neural Network for Fashion Dataset.ipynb",
      "provenance": [],
      "collapsed_sections": [],
      "authorship_tag": "ABX9TyMrMPIaNcwKkhJHW9aCMnqQ",
      "include_colab_link": true
    },
    "kernelspec": {
      "name": "python3",
      "display_name": "Python 3"
    },
    "accelerator": "GPU"
  },
  "cells": [
    {
      "cell_type": "markdown",
      "metadata": {
        "id": "view-in-github",
        "colab_type": "text"
      },
      "source": [
        "<a href=\"https://colab.research.google.com/github/ShehabMMohamed/TensorFlow-Tutorials/blob/main/Neural_Network_for_Fashion_Dataset.ipynb\" target=\"_parent\"><img src=\"https://colab.research.google.com/assets/colab-badge.svg\" alt=\"Open In Colab\"/></a>"
      ]
    },
    {
      "cell_type": "markdown",
      "metadata": {
        "id": "BNqvhHYDdJIz"
      },
      "source": [
        "![](https://drive.google.com/uc?export=view&id=1hfbuF6jpHNjw8I_LAIj5VCQIpe12VAZW)\n",
        "\n"
      ]
    },
    {
      "cell_type": "markdown",
      "metadata": {
        "id": "n5z3B3jzq7jz"
      },
      "source": [
        "**Neural Networks Crash Course**\n",
        "\n",
        "\n",
        "A Neural Network is a supervised machine learning algorithm that uses a layered representation of data to learn its features for prediction or classification tasks. It is an algorithm that attempts to mimick the human brain behvaiour through creating an artificial network composed of neurons and weights that learns patterns or features of the data from simple to complex ones.\n",
        "\n",
        "**Neuron** sums all the input weights by their inputs, adds a constant (bias) to it and then passes them through an activation function to capture non-linearity between the features.\n",
        "\n",
        "**Activation Function:** to introduce complexity into our neural network. We use activation functions in our layers to introduce non-linearity to capture the features in different dimensions)\n",
        "\n",
        "The activation function of a neuron is \n",
        "\n",
        "```\n",
        "Neuron = f(X.W + b)\n",
        "```\n",
        "**Different Activation Functions**\n",
        "\n",
        "\n",
        "**Sigmoid Function:** takes a real value and squashes it to range between 0 and 1.\n",
        "\n",
        "**Tanh Function:** takes a real value and squashes it to range between -1 and 1.\n",
        "\n",
        "**Rectified Linear Unit (RELU):** takes a real value and thresholds it at zero. Value is between 0 and infinity.\n",
        "\n",
        "\n",
        "**Softmax Function:** used in classification tasks, provides a probability score based on which prediction has highest confidence.\n",
        "\n",
        "\n",
        "**Two Types of Feed Forward Networks (FF Networks):**\n",
        "\n",
        "1- Single-Layer Perceptron: No hidden layers, learns linear functions.\n",
        "\n",
        "2- Multi-Layer Perceptron: has one or more hidden layer, learns linear and non-linear functions.\n",
        "\n"
      ]
    },
    {
      "cell_type": "markdown",
      "metadata": {
        "id": "FMrlzL8GnLDe"
      },
      "source": [
        "**Loss/Cost Function** - How bad/good the network was?\n",
        "\n",
        "We use a loss/cost function to compute the error of the network. And based on the error, we change the weights of the networks to adjust to the output such that the network outputs with lower error next time. Basically learn through the weights.\n",
        "\n",
        "List of Loss Functions:\n",
        "\n",
        "1- MSE (Mean Squared Error)\n",
        "\n",
        "2- MAE (Mean Absolute Error)\n",
        "\n",
        "3- Hinge Loss (SVM Loss)\n",
        "\n",
        "4- Cross Entropy Loss\n",
        "\n",
        "Many more...\n"
      ]
    },
    {
      "cell_type": "markdown",
      "metadata": {
        "id": "xkWDtWTAnaPO"
      },
      "source": [
        "Gradient Descent: the algorithm used to find the optimal parameters (weights and biases) for out network. We compute the gradient and find the direction in which the gradient is approaching the optimal point. The gradient is the derivative of the cost function.\n",
        "\n",
        "Backpropagation: the process of calculating the gradient that is used in the gradient descent step.\n",
        "\n",
        "We calculate what its called a gradient, which is the direction we need to move to minimize the loss/cost function.\n",
        "\n",
        "Optimizer: the algorithm that implements the backpropagation algorithm\n",
        "- Gradient Descent\n",
        "- Stocashtic Gradient Descent (SGD)\n",
        "- Mini-Batch Gradient Descent (mini SGD)\n",
        "- Momentum\n",
        "- Nestrov Accelerated Descent\n",
        "- Adam"
      ]
    },
    {
      "cell_type": "markdown",
      "metadata": {
        "id": "5h0tz31IHCds"
      },
      "source": [
        "Google Collaboratory is a free Jupyter notebook environment that requires no setup and runs entirely in cloud.\n"
      ]
    },
    {
      "cell_type": "markdown",
      "metadata": {
        "id": "1wd9oIB3HOs0"
      },
      "source": [
        "We do not need to install the libraries for these examples since they are pre-installed in the cloud environment, so we will start importing them. "
      ]
    },
    {
      "cell_type": "markdown",
      "metadata": {
        "id": "WDnXAs8sHjsM"
      },
      "source": [
        "We are going to build and train a Neural Network that classifies images of 28x28 pixels to different clothes using Fashion MNIST dataset."
      ]
    },
    {
      "cell_type": "code",
      "metadata": {
        "id": "_qssMBZr2fcw"
      },
      "source": [
        "import tensorflow as tf           # our deep learning library\n",
        "from tensorflow import keras      # keras is now part of TensorFlow 2.0\n",
        "import numpy as np                # for optimized matrix multiplication.\n",
        "import matplotlib.pyplot as plt   # for data analysis/visualization."
      ],
      "execution_count": null,
      "outputs": []
    },
    {
      "cell_type": "markdown",
      "metadata": {
        "id": "ztrLHN8Um26X"
      },
      "source": [
        "Fashion MNIST dataset is one of many Keras datasets publicly available in Tensorflow https://www.tensorflow.org/api_docs/python/tf/keras/datasets. We are importing it from keras.datasets.\n",
        "The dataset consists of 60,000 images that we will use for training, and 10,000 images for testing."
      ]
    },
    {
      "cell_type": "code",
      "metadata": {
        "id": "5cq6d34B2rFw",
        "colab": {
          "base_uri": "https://localhost:8080/"
        },
        "outputId": "2797e7a7-bc2b-4649-92c6-bf29c721d647"
      },
      "source": [
        "fashion_mnist = keras.datasets.fashion_mnist # 60,000 images, 10,000 images for validation/testing\n",
        "(train_images, train_labels), (test_images, test_labels) = fashion_mnist.load_data()"
      ],
      "execution_count": null,
      "outputs": [
        {
          "output_type": "stream",
          "text": [
            "Downloading data from https://storage.googleapis.com/tensorflow/tf-keras-datasets/train-labels-idx1-ubyte.gz\n",
            "32768/29515 [=================================] - 0s 0us/step\n",
            "Downloading data from https://storage.googleapis.com/tensorflow/tf-keras-datasets/train-images-idx3-ubyte.gz\n",
            "26427392/26421880 [==============================] - 0s 0us/step\n",
            "Downloading data from https://storage.googleapis.com/tensorflow/tf-keras-datasets/t10k-labels-idx1-ubyte.gz\n",
            "8192/5148 [===============================================] - 0s 0us/step\n",
            "Downloading data from https://storage.googleapis.com/tensorflow/tf-keras-datasets/t10k-images-idx3-ubyte.gz\n",
            "4423680/4422102 [==============================] - 0s 0us/step\n"
          ],
          "name": "stdout"
        }
      ]
    },
    {
      "cell_type": "markdown",
      "metadata": {
        "id": "GHdMqcJ9m9GO"
      },
      "source": [
        "**Shape of the training data**\n",
        "\n",
        "Each image is a 28x28 Pixel. If we flatten the image to a 1D array, we can represent an input image as a 1D array of 784 datapoints.\n",
        "\n",
        "Training data has 60,000 images\n",
        "\n",
        "Testing data has 10,000 images\n",
        "\n",
        "\n",
        "`type(train_images)` would give you that this is a n-dimensional array or in short ndarray\n",
        "\n",
        "`train_images.shape` would give you that it is a numpy array of shape (60000, 28, 28)"
      ]
    },
    {
      "cell_type": "code",
      "metadata": {
        "id": "IzXZhDRc3BO3",
        "colab": {
          "base_uri": "https://localhost:8080/"
        },
        "outputId": "0f0313ff-168f-4ab4-e9af-db80fa586003"
      },
      "source": [
        "print(train_images.shape)    # Shape \n",
        "type(train_images)    # Type ndarray"
      ],
      "execution_count": null,
      "outputs": [
        {
          "output_type": "stream",
          "text": [
            "(60000, 28, 28)\n"
          ],
          "name": "stdout"
        },
        {
          "output_type": "execute_result",
          "data": {
            "text/plain": [
              "numpy.ndarray"
            ]
          },
          "metadata": {
            "tags": []
          },
          "execution_count": 4
        }
      ]
    },
    {
      "cell_type": "markdown",
      "metadata": {
        "id": "6bujz_yknqe5"
      },
      "source": [
        "Printing 10x10 pixels (Top Left) of Train Image # 16"
      ]
    },
    {
      "cell_type": "code",
      "metadata": {
        "id": "9Jr4Q8lv3Hb1",
        "colab": {
          "base_uri": "https://localhost:8080/"
        },
        "outputId": "3d2c7fa6-2906-45f4-978a-ac1d64e1e639"
      },
      "source": [
        "img_i = 16\n",
        "train_images[img_i,:10,:10]     # :10 means we are slicing and getting the first 10 values."
      ],
      "execution_count": null,
      "outputs": [
        {
          "output_type": "execute_result",
          "data": {
            "text/plain": [
              "array([[  0,   0,   0,   0,   0,   0,   0,   0,   0,  53],\n",
              "       [  0,   0,   0,   0,   0,   0,   0,   0,   0, 117],\n",
              "       [  0,   0,   0,   0,   0,   0,   0,   0,   0, 127],\n",
              "       [  0,   0,   0,   0,   0,   0,   0,   0,   0, 165],\n",
              "       [  0,   0,   0,   0,   0,   0,   0,   0,   0, 185],\n",
              "       [  0,   0,   0,   0,   0,   0,   0,   0,   0, 200],\n",
              "       [  0,   0,   0,   0,   0,   0,   0,   0,   7, 213],\n",
              "       [  0,   0,   0,   0,   0,   0,   0,   0,  25, 201],\n",
              "       [  0,   0,   0,   0,   0,   0,   0,   0,  42, 195],\n",
              "       [  0,   0,   0,   0,   0,   0,   0,   0,  50, 184]], dtype=uint8)"
            ]
          },
          "metadata": {
            "tags": []
          },
          "execution_count": 5
        }
      ]
    },
    {
      "cell_type": "code",
      "metadata": {
        "id": "K__qkOFV3XoN",
        "colab": {
          "base_uri": "https://localhost:8080/"
        },
        "outputId": "e1a741a2-cc25-40ff-9d76-95a08569dbeb"
      },
      "source": [
        "train_labels[:10]"
      ],
      "execution_count": null,
      "outputs": [
        {
          "output_type": "execute_result",
          "data": {
            "text/plain": [
              "array([9, 0, 0, 3, 0, 2, 7, 2, 5, 5], dtype=uint8)"
            ]
          },
          "metadata": {
            "tags": []
          },
          "execution_count": 6
        }
      ]
    },
    {
      "cell_type": "markdown",
      "metadata": {
        "id": "pIT19hPOLw3-"
      },
      "source": [
        "In this problem, our dataset has 10 labels or classes, each image in the training data has its label (ground truth) and we want to take a testing image and give it a label (prediction)."
      ]
    },
    {
      "cell_type": "code",
      "metadata": {
        "id": "kFwH5qh_3olW"
      },
      "source": [
        "class_names = ['T-Shirt', 'Trouser', 'Pullover', 'Dress', 'Coat', 'Sandal', 'Shirt', 'Sneaker', 'Bag', 'Ankle Boot']"
      ],
      "execution_count": null,
      "outputs": []
    },
    {
      "cell_type": "markdown",
      "metadata": {
        "id": "DgkhzUPPotYy"
      },
      "source": [
        "This function is for visualization, we take an id of an image from our 60,000 training images and we show the actual image with its label."
      ]
    },
    {
      "cell_type": "code",
      "metadata": {
        "id": "t0jRnv-73xpc",
        "colab": {
          "base_uri": "https://localhost:8080/",
          "height": 281
        },
        "outputId": "dcc6811d-008e-4f6f-e755-04100d8ef902"
      },
      "source": [
        "def show_image_and_label(id):\n",
        "  plt.figure()\n",
        "  plt.imshow(train_images[id])\n",
        "  plt.title(class_names[train_labels[id]])\n",
        "  plt.colorbar()\n",
        "  plt.grid(False)\n",
        "  plt.show()\n",
        "show_image_and_label(22)"
      ],
      "execution_count": null,
      "outputs": [
        {
          "output_type": "display_data",
          "data": {
            "image/png": "[encoded data removed]",
            "text/plain": [
              "<Figure size 432x288 with 2 Axes>"
            ]
          },
          "metadata": {
            "tags": [],
            "needs_background": "light"
          }
        }
      ]
    },
    {
      "cell_type": "markdown",
      "metadata": {
        "id": "BbfCqhoSpMOV"
      },
      "source": [
        "We can preprocess our data further by normalizing our images.\n",
        "\n",
        "Since the datapoints are pixels of range 0 to 255 we can scale them down by dividing 255.0."
      ]
    },
    {
      "cell_type": "code",
      "metadata": {
        "id": "zxEvHV5c4HZA"
      },
      "source": [
        "train_images = train_images / 255.0\n",
        "test_images = test_images / 255.0"
      ],
      "execution_count": null,
      "outputs": []
    },
    {
      "cell_type": "markdown",
      "metadata": {
        "id": "3hqY2Hwk5gM4"
      },
      "source": [
        "This part is creating a 3-layered neural network by stacking the layers on top of each other.\n",
        "\n",
        "We use the Sequential API of keras and provide an array of layers, where the first layer is in the input layer, the second layers is the hidden layer, and the third layer is the output layer.\n",
        "\n",
        "\n",
        "We Defined the Architecture of our Neural Network, we defined the amount of neurons in each layer and the activation functions."
      ]
    },
    {
      "cell_type": "code",
      "metadata": {
        "id": "d_efwco_4Ym2"
      },
      "source": [
        "model = keras.Sequential([\n",
        "                          keras.layers.Flatten(input_shape=(28, 28)),   # input layer (1)\n",
        "                          keras.layers.Dense(128, activation='relu'),   # hidden layer (2)\n",
        "                          keras.layers.Dense(10, activation='softmax')  # output layer (3)\n",
        "])"
      ],
      "execution_count": null,
      "outputs": []
    },
    {
      "cell_type": "code",
      "metadata": {
        "id": "dKzTeWHUsu2h",
        "colab": {
          "base_uri": "https://localhost:8080/"
        },
        "outputId": "2dd10632-9110-48c1-f6f8-e32b1f19765a"
      },
      "source": [
        "model.summary()     # provides us the current architecture of our neural network."
      ],
      "execution_count": null,
      "outputs": [
        {
          "output_type": "stream",
          "text": [
            "Model: \"sequential\"\n",
            "_________________________________________________________________\n",
            "Layer (type)                 Output Shape              Param #   \n",
            "=================================================================\n",
            "flatten (Flatten)            (None, 784)               0         \n",
            "_________________________________________________________________\n",
            "dense (Dense)                (None, 128)               100480    \n",
            "_________________________________________________________________\n",
            "dense_1 (Dense)              (None, 10)                1290      \n",
            "=================================================================\n",
            "Total params: 101,770\n",
            "Trainable params: 101,770\n",
            "Non-trainable params: 0\n",
            "_________________________________________________________________\n"
          ],
          "name": "stdout"
        }
      ]
    },
    {
      "cell_type": "markdown",
      "metadata": {
        "id": "hPqkdkRw5j1u"
      },
      "source": [
        "Next we need to compile our model.\n",
        "\n",
        "\n",
        "Compile the Model: We need to define the loss/cost function, optimizer, and metrics we would like to observe/track. \n",
        "\n",
        "\n",
        "Changing the loss/cost function, optimizer is part of what we cann \"Hyperparameter Tuning\". We are tweaking our architecture to observe its performance whether the accuracy will increase or decrease.\n"
      ]
    },
    {
      "cell_type": "code",
      "metadata": {
        "id": "r3J6uYIg5cKq"
      },
      "source": [
        "model.compile(optimizer='adam', loss='sparse_categorical_crossentropy', metrics=['accuracy'])"
      ],
      "execution_count": null,
      "outputs": []
    },
    {
      "cell_type": "markdown",
      "metadata": {
        "id": "PDQTIi3GXwfy"
      },
      "source": [
        "Epoch: a single iteration on the entire training data."
      ]
    },
    {
      "cell_type": "code",
      "metadata": {
        "id": "BKE5KWgx4tus",
        "colab": {
          "base_uri": "https://localhost:8080/"
        },
        "outputId": "158812b5-6ca0-4c37-e697-34641df70faa"
      },
      "source": [
        "model.fit(train_images, train_labels, epochs=10)      # Start Training the model."
      ],
      "execution_count": null,
      "outputs": [
        {
          "output_type": "stream",
          "text": [
            "Epoch 1/10\n",
            "1875/1875 [==============================] - 3s 2ms/step - loss: 0.5025 - accuracy: 0.8241\n",
            "Epoch 2/10\n",
            "1875/1875 [==============================] - 3s 2ms/step - loss: 0.3774 - accuracy: 0.8658\n",
            "Epoch 3/10\n",
            "1875/1875 [==============================] - 3s 2ms/step - loss: 0.3374 - accuracy: 0.8785\n",
            "Epoch 4/10\n",
            "1875/1875 [==============================] - 3s 2ms/step - loss: 0.3138 - accuracy: 0.8855\n",
            "Epoch 5/10\n",
            "1875/1875 [==============================] - 3s 2ms/step - loss: 0.2988 - accuracy: 0.8906\n",
            "Epoch 6/10\n",
            "1875/1875 [==============================] - 3s 2ms/step - loss: 0.2833 - accuracy: 0.8960\n",
            "Epoch 7/10\n",
            "1875/1875 [==============================] - 3s 2ms/step - loss: 0.2687 - accuracy: 0.9009\n",
            "Epoch 8/10\n",
            "1875/1875 [==============================] - 3s 2ms/step - loss: 0.2578 - accuracy: 0.9037\n",
            "Epoch 9/10\n",
            "1875/1875 [==============================] - 3s 2ms/step - loss: 0.2487 - accuracy: 0.9074\n",
            "Epoch 10/10\n",
            "1875/1875 [==============================] - 3s 2ms/step - loss: 0.2415 - accuracy: 0.9092\n"
          ],
          "name": "stdout"
        },
        {
          "output_type": "execute_result",
          "data": {
            "text/plain": [
              "<tensorflow.python.keras.callbacks.History at 0x7f20c35f65c0>"
            ]
          },
          "metadata": {
            "tags": []
          },
          "execution_count": 15
        }
      ]
    },
    {
      "cell_type": "code",
      "metadata": {
        "id": "YXTML5J96JxB",
        "colab": {
          "base_uri": "https://localhost:8080/"
        },
        "outputId": "6222dfed-9174-481f-ee8a-f4e0f6a48b27"
      },
      "source": [
        "test_loss, test_acc = model.evaluate(test_images, test_labels, verbose=1)   \n",
        "\n",
        "print(\"Test Accuracy:\", test_acc)"
      ],
      "execution_count": null,
      "outputs": [
        {
          "output_type": "stream",
          "text": [
            "313/313 [==============================] - 1s 2ms/step - loss: 0.3336 - accuracy: 0.8848\n",
            "Test Accuracy: 0.8848000168800354\n"
          ],
          "name": "stdout"
        }
      ]
    },
    {
      "cell_type": "code",
      "metadata": {
        "id": "rwznVXnl7f8h",
        "colab": {
          "base_uri": "https://localhost:8080/"
        },
        "outputId": "ee9411bf-4276-476b-f9c7-a72e0ec3214d"
      },
      "source": [
        "test_images.shape"
      ],
      "execution_count": null,
      "outputs": [
        {
          "output_type": "execute_result",
          "data": {
            "text/plain": [
              "(10000, 28, 28)"
            ]
          },
          "metadata": {
            "tags": []
          },
          "execution_count": 17
        }
      ]
    },
    {
      "cell_type": "markdown",
      "metadata": {
        "id": "qUhDS1pnpphm"
      },
      "source": [
        "**Testing an Image**\n",
        "\n",
        "Our model now is trained and has the weights of Accuracy ~90%. We can use this model to classify a testing image."
      ]
    },
    {
      "cell_type": "code",
      "metadata": {
        "id": "JHaCyho7ppIo",
        "colab": {
          "base_uri": "https://localhost:8080/",
          "height": 298
        },
        "outputId": "210704d0-081c-4feb-a85a-bb8bdb57e806"
      },
      "source": [
        "def test_image(id):\n",
        "  prediction = model.predict(np.array([test_images[id]]))\n",
        "  class_index = np.argmax(prediction)\n",
        "  plt.figure()\n",
        "  plt.imshow(test_images[id])\n",
        "  plt.title(class_names[test_labels[id]])\n",
        "  print(\"Predicted Label: {0} | Actual Label: {1}\".format(class_names[class_index], class_names[test_labels[id]]))\n",
        "  plt.colorbar()\n",
        "  plt.show()\n",
        "\n",
        "test_image(193)   "
      ],
      "execution_count": null,
      "outputs": [
        {
          "output_type": "stream",
          "text": [
            "Predicted Label: Shirt | Actual Label: Shirt\n"
          ],
          "name": "stdout"
        },
        {
          "output_type": "display_data",
          "data": {
            "image/png": "[encoded data removed]",
            "text/plain": [
              "<Figure size 432x288 with 2 Axes>"
            ]
          },
          "metadata": {
            "tags": [],
            "needs_background": "light"
          }
        }
      ]
    },
    {
      "cell_type": "code",
      "metadata": {
        "id": "c0pbH1IS8a15"
      },
      "source": [
        ""
      ],
      "execution_count": null,
      "outputs": []
    }
  ]
}